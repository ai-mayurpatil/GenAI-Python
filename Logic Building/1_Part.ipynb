{
 "cells": [
  {
   "cell_type": "code",
   "execution_count": 9,
   "metadata": {},
   "outputs": [
    {
     "name": "stdout",
     "output_type": "stream",
     "text": [
      "Student and Grade , [{'name': 'mayur', 'grade': 9.5}, {'name': 'suraj', 'grade': 8.5}, {'name': 'vivek', 'grade': 8.7}]\n"
     ]
    }
   ],
   "source": [
    "students = []\n",
    "while True:\n",
    "\n",
    "    name = input(\"Enter the student name\")\n",
    "\n",
    "    if name.lower() == 'done':\n",
    "        break\n",
    "\n",
    "    grade = float(input(f\"Enter the {name} grade :\"))\n",
    "    students.append({\"name\":name,\"grade\":grade})\n",
    "\n",
    "print(\"Student and Grade ,\",students)"
   ]
  }
 ],
 "metadata": {
  "kernelspec": {
   "display_name": "Python 3",
   "language": "python",
   "name": "python3"
  },
  "language_info": {
   "codemirror_mode": {
    "name": "ipython",
    "version": 3
   },
   "file_extension": ".py",
   "mimetype": "text/x-python",
   "name": "python",
   "nbconvert_exporter": "python",
   "pygments_lexer": "ipython3",
   "version": "3.12.4"
  }
 },
 "nbformat": 4,
 "nbformat_minor": 2
}
